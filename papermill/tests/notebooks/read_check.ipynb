{
  "cells": [
    {
      "cell_type": "code",
      "execution_count": null,
      "metadata": {
        "id": "dcda9568e62c"
      },
      "outputs": [],
      "source": [
        "import os"
      ]
    },
    {
      "cell_type": "code",
      "execution_count": null,
      "metadata": {
        "id": "d0b74cce2b3a"
      },
      "outputs": [],
      "source": [
        "print(\"NB_CWD\", os.getcwd())\n",
        "assert(os.path.isfile('check.txt'))"
      ]
    }
  ],
  "metadata": {
    "colab": {
      "toc_visible": true
    },
    "kernelspec": {
      "display_name": "Python 3",
      "name": "python3"
    }
  },
  "nbformat": 4,
  "nbformat_minor": 0
}

