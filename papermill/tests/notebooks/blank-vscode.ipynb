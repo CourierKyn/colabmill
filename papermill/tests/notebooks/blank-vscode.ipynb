{
  "cells": [],
  "metadata": {
    "colab": {
      "toc_visible": true
    },
    "kernelspec": {
      "display_name": "Python 3",
      "name": "python3"
    }
  },
  "nbformat": 4,
  "nbformat_minor": 0
}

