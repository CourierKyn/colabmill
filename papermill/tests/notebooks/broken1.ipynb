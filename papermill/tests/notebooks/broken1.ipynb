{
  "cells": [
    {
      "cell_type": "markdown",
      "metadata": {
        "id": "6d30f39f8c2d"
      },
      "source": [
        "<span style=\"color:red; font-family:Helvetica Neue, Helvetica, Arial, sans-serif; font-size:2em;\">An Exception was encountered at '<a href=\"#papermill-error-cell\">In [1]</a>'.</span>"
      ]
    },
    {
      "cell_type": "markdown",
      "metadata": {
        "id": "f11c492209a7"
      },
      "source": [
        "A markdown cell that makes the execution counts different to indices within the list of all cells."
      ]
    },
    {
      "cell_type": "markdown",
      "metadata": {
        "id": "8a9c57d2a535"
      },
      "source": [
        "<span id=\"papermill-error-cell\" style=\"color:red; font-family:Helvetica Neue, Helvetica, Arial, sans-serif; font-size:2em;\">Execution encountered an exception here and stopped:</span>"
      ]
    },
    {
      "cell_type": "code",
      "execution_count": null,
      "metadata": {
        "id": "e44753f2789f"
      },
      "outputs": [],
      "source": [
        "print(\"We're good.\")"
      ]
    },
    {
      "cell_type": "markdown",
      "metadata": {
        "id": "902f76b168a1"
      },
      "source": [
        "Another markdown cell"
      ]
    },
    {
      "cell_type": "markdown",
      "metadata": {
        "id": "7b079464451f"
      },
      "source": [
        "A third one."
      ]
    },
    {
      "cell_type": "code",
      "execution_count": null,
      "metadata": {
        "id": "3ee1f31c36ac"
      },
      "outputs": [],
      "source": [
        "assert False"
      ]
    },
    {
      "cell_type": "code",
      "execution_count": null,
      "metadata": {
        "id": "853ed789365c"
      },
      "outputs": [],
      "source": [
        "print \"Shouldn't get here.\""
      ]
    }
  ],
  "metadata": {
    "colab": {
      "name": "broken1.ipynb",
      "toc_visible": true
    },
    "kernelspec": {
      "display_name": "Python 3",
      "name": "python3"
    }
  },
  "nbformat": 4,
  "nbformat_minor": 0
}

