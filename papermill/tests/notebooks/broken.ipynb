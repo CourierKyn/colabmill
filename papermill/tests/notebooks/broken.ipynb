{
  "cells": [
    {
      "cell_type": "code",
      "execution_count": null,
      "metadata": {
        "id": "dcbae0ba2f92"
      },
      "outputs": [],
      "source": [
        "print \"We're good.\""
      ]
    },
    {
      "cell_type": "code",
      "execution_count": null,
      "metadata": {
        "id": "6e6a0d0db2e4"
      },
      "outputs": [],
      "source": [
        "assert False"
      ]
    },
    {
      "cell_type": "code",
      "execution_count": null,
      "metadata": {
        "id": "b2a34ab4d073"
      },
      "outputs": [],
      "source": [
        "print \"Shouldn't get here.\""
      ]
    }
  ],
  "metadata": {
    "colab": {
      "name": "broken.ipynb",
      "toc_visible": true
    },
    "kernelspec": {
      "display_name": "Python 3",
      "name": "python3"
    }
  },
  "nbformat": 4,
  "nbformat_minor": 0
}

