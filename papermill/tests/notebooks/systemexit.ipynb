{
  "cells": [
    {
      "cell_type": "code",
      "execution_count": null,
      "metadata": {
        "id": "f4328f6f3e65"
      },
      "outputs": [],
      "source": [
        "import sys"
      ]
    },
    {
      "cell_type": "code",
      "execution_count": null,
      "metadata": {
        "id": "2672437bfc14"
      },
      "outputs": [],
      "source": [
        "raise SystemExit"
      ]
    },
    {
      "cell_type": "code",
      "execution_count": null,
      "metadata": {
        "id": "1ca1720614b0"
      },
      "outputs": [],
      "source": [
        "print(\"Cell should not execute.\")"
      ]
    }
  ],
  "metadata": {
    "colab": {
      "name": "systemexit.ipynb",
      "toc_visible": true
    },
    "kernelspec": {
      "display_name": "Python 3",
      "name": "python3"
    }
  },
  "nbformat": 4,
  "nbformat_minor": 0
}

