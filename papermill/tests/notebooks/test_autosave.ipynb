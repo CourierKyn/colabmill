{
  "cells": [
    {
      "cell_type": "code",
      "execution_count": null,
      "metadata": {
        "id": "3d84501b4401"
      },
      "outputs": [],
      "source": [
        "import time\n",
        "for i in range(25):  # This will take 2.5 seconds\n",
        "    time.sleep(0.1)\n",
        "    print(i)"
      ]
    }
  ],
  "metadata": {
    "colab": {
      "name": "test_autosave.ipynb",
      "toc_visible": true
    },
    "kernelspec": {
      "display_name": "Python 3",
      "name": "python3"
    }
  },
  "nbformat": 4,
  "nbformat_minor": 0
}

