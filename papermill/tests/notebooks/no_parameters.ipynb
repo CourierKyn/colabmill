{
  "cells": [
    {
      "cell_type": "code",
      "execution_count": null,
      "metadata": {
        "id": "0ca540ff7660"
      },
      "outputs": [],
      "source": [
        "msg = None"
      ]
    },
    {
      "cell_type": "code",
      "execution_count": null,
      "metadata": {
        "id": "bdc687493eb0"
      },
      "outputs": [],
      "source": [
        "print(msg)"
      ]
    }
  ],
  "metadata": {
    "colab": {
      "name": "no_parameters.ipynb",
      "toc_visible": true
    },
    "kernelspec": {
      "display_name": "Python 3",
      "name": "python3"
    }
  },
  "nbformat": 4,
  "nbformat_minor": 0
}

