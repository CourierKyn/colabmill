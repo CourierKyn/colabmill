{
  "cells": [
    {
      "cell_type": "code",
      "execution_count": null,
      "metadata": {
        "id": "9a2af2c348c6"
      },
      "outputs": [],
      "source": [
        "a = 1\n",
        "b = 1"
      ]
    },
    {
      "cell_type": "code",
      "execution_count": null,
      "metadata": {
        "id": "137efa2e8d13"
      },
      "outputs": [],
      "source": [
        "def sum(x, y):\n",
        "    return x+y"
      ]
    },
    {
      "cell_type": "code",
      "execution_count": null,
      "metadata": {
        "id": "88a2b1ce4c48"
      },
      "outputs": [],
      "source": [
        "print(sum(a, b))"
      ]
    }
  ],
  "metadata": {
    "colab": {
      "name": "report_mode_test.ipynb",
      "toc_visible": true
    },
    "kernelspec": {
      "display_name": "Python 3",
      "name": "python3"
    }
  },
  "nbformat": 4,
  "nbformat_minor": 0
}

