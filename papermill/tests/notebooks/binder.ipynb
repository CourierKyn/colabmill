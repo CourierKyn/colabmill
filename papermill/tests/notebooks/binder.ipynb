{
  "cells": [
    {
      "cell_type": "markdown",
      "metadata": {
        "id": "f2aafeed0de2"
      },
      "source": [
        "[See input here!](simple_execute.ipynb)"
      ]
    },
    {
      "cell_type": "code",
      "execution_count": null,
      "metadata": {
        "id": "de4e9b14e3d1"
      },
      "outputs": [],
      "source": [
        "%%bash\n",
        "cd ../../../\n",
        "python -m papermill papermill/tests/notebooks/simple_execute.ipynb papermill/tests/notebooks/simple_output.ipynb -p msg 'Hello'"
      ]
    },
    {
      "cell_type": "markdown",
      "metadata": {
        "id": "652f0c0b2120"
      },
      "source": [
        "[See output here!](simple_output.ipynb)"
      ]
    }
  ],
  "metadata": {
    "colab": {
      "name": "binder.ipynb",
      "toc_visible": true
    },
    "kernelspec": {
      "display_name": "Python 3",
      "name": "python3"
    }
  },
  "nbformat": 4,
  "nbformat_minor": 0
}

