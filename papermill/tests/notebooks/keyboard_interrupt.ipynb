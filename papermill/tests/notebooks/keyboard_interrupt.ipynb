{
  "cells": [
    {
      "cell_type": "code",
      "execution_count": null,
      "metadata": {
        "id": "c3481ddc3eec"
      },
      "outputs": [],
      "source": [
        "from time import sleep\n",
        "sleep(60)"
      ]
    }
  ],
  "metadata": {
    "colab": {
      "toc_visible": true
    },
    "kernelspec": {
      "display_name": "Python 3",
      "name": "python3"
    }
  },
  "nbformat": 4,
  "nbformat_minor": 0
}

