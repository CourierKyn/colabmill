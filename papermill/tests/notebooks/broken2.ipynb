{
  "cells": [
    {
      "cell_type": "code",
      "execution_count": null,
      "metadata": {
        "id": "25356e1f4280"
      },
      "outputs": [],
      "source": [
        "print(\"We're good.\")"
      ]
    },
    {
      "cell_type": "code",
      "execution_count": null,
      "metadata": {
        "id": "d70db25dfa6b"
      },
      "outputs": [],
      "source": [
        "# This causes multiple output elements to be created, one of type \"display_data\" and another of type \"error.\"\n",
        "from IPython.core.display import display, HTML\n",
        "display(HTML(\"<style>.container { width:100% !important; }</style>\"))\n",
        "\n",
        "assert False"
      ]
    },
    {
      "cell_type": "code",
      "execution_count": null,
      "metadata": {
        "id": "b2a34ab4d073"
      },
      "outputs": [],
      "source": [
        "print \"Shouldn't get here.\""
      ]
    }
  ],
  "metadata": {
    "colab": {
      "name": "broken2.ipynb",
      "toc_visible": true
    },
    "kernelspec": {
      "display_name": "Python 3",
      "name": "python3"
    }
  },
  "nbformat": 4,
  "nbformat_minor": 0
}

