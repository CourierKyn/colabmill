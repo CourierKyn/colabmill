{
  "cells": [
    {
      "cell_type": "code",
      "execution_count": null,
      "metadata": {
        "id": "f0b15ab723e1"
      },
      "outputs": [],
      "source": [
        "msg = None\n",
        "a: float = 2.25 # Variable a\n",
        "b = [\n",
        "    'Hello', # First element\n",
        "# Dummy comment\n",
        "    'World'\n",
        "] # type: List[str] Nice list\n",
        "\n",
        "# Interesting c variable\n",
        "c: \"NoneType\" = None\n",
        "# Not introspectable line\n",
        "d = a == 3\n",
        "# Broken name definition\n",
        "= 2"
      ]
    }
  ],
  "metadata": {
    "colab": {
      "name": "complex_parameters.ipynb",
      "toc_visible": true
    },
    "kernelspec": {
      "display_name": "Python 3",
      "name": "python3"
    }
  },
  "nbformat": 4,
  "nbformat_minor": 0
}

