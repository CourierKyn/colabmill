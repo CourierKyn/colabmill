{
  "cells": [
    {
      "cell_type": "code",
      "execution_count": null,
      "metadata": {
        "id": "81b9d87c958a"
      },
      "outputs": [],
      "source": [
        "# Parameters\n",
        "var = 1"
      ]
    },
    {
      "cell_type": "code",
      "execution_count": null,
      "metadata": {
        "id": "d639a005805d"
      },
      "outputs": [],
      "source": [
        "print(var)"
      ]
    }
  ],
  "metadata": {
    "colab": {
      "name": "nb_version_4.4.ipynb",
      "toc_visible": true
    },
    "kernelspec": {
      "display_name": "Python 3",
      "name": "python3"
    }
  },
  "nbformat": 4,
  "nbformat_minor": 0
}

