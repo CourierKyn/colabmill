{
  "cells": [
    {
      "cell_type": "code",
      "execution_count": null,
      "metadata": {
        "id": "7f22c6638d1a"
      },
      "outputs": [],
      "source": [
        "# Parameters\n",
        "foo = 1\n",
        "bar = \"hello\"\n"
      ]
    }
  ],
  "metadata": {
    "colab": {
      "name": "result_no_exec.ipynb",
      "toc_visible": true
    },
    "kernelspec": {
      "display_name": "Python 3",
      "name": "python3"
    }
  },
  "nbformat": 4,
  "nbformat_minor": 0
}

