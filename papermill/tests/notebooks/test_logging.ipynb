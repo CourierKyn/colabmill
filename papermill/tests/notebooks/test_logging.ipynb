{
  "cells": [
    {
      "cell_type": "code",
      "execution_count": null,
      "metadata": {
        "id": "a8bc81483517"
      },
      "outputs": [],
      "source": [
        "import logging\n",
        "logger = logging.getLogger(\"test\")\n",
        "logger.setLevel(logging.INFO)\n",
        "logging.basicConfig(level=logging.INFO)\n",
        "logger.info(\"test text\")"
      ]
    },
    {
      "cell_type": "code",
      "execution_count": null,
      "metadata": {
        "id": "f2837884a130"
      },
      "outputs": [],
      "source": [
        "print(\"hello world\")"
      ]
    },
    {
      "cell_type": "code",
      "execution_count": null,
      "metadata": {
        "id": "2e4596dc4ebd"
      },
      "outputs": [],
      "source": [
        "import warnings\n",
        "warnings.simplefilter(action='ignore', category=FutureWarning)\n",
        "from ggplot import mpg\n",
        "mpg['cty'].plot.hist(bins=12)"
      ]
    }
  ],
  "metadata": {
    "colab": {
      "toc_visible": true
    },
    "kernelspec": {
      "display_name": "Python 3",
      "name": "python3"
    }
  },
  "nbformat": 4,
  "nbformat_minor": 0
}

