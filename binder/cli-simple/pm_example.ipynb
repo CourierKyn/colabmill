{
  "cells": [
    {
      "cell_type": "markdown",
      "metadata": {
        "id": "213e7c5f999e"
      },
      "source": [
        "# Example - Executing a notebook from python"
      ]
    },
    {
      "cell_type": "markdown",
      "metadata": {
        "id": "0ddde191593d"
      },
      "source": [
        "## How to add a parameter tag\n",
        "\n",
        "If you wanted to add your own parameter tag, you would go to the menu: View ➡️ Cell Toolbar ➡️ Tags\n"
      ]
    },
    {
      "cell_type": "markdown",
      "metadata": {
        "id": "478d7db02e84"
      },
      "source": [
        "## Input notebook\n",
        "\n",
        "Let's take a look at the input notebook (`simple_input.ipynb`). This notebook has cells containing\n",
        "tags for the parameters. \n",
        "\n",
        "[See input notebook](simple_input.ipynb)"
      ]
    },
    {
      "cell_type": "markdown",
      "metadata": {
        "id": "ff5e7dff9bc7"
      },
      "source": [
        "## Execute using the Python\n",
        "\n",
        "We are going to use papermill's python interface to execute the notebook\n",
        "\n",
        "The command takes the form:\n",
        "\n",
        "`pm.execute_notebook(input, output, parameters={param_name: param_value}`"
      ]
    },
    {
      "cell_type": "code",
      "execution_count": null,
      "metadata": {
        "id": "f698ad48b8b5"
      },
      "outputs": [],
      "source": [
        "import os\n",
        "import papermill as pm\n",
        "\n",
        "binder_dir = '..'"
      ]
    },
    {
      "cell_type": "code",
      "execution_count": null,
      "metadata": {
        "id": "cf6a7f40ea7a"
      },
      "outputs": [],
      "source": [
        "result = pm.execute_notebook(\n",
        "    os.path.join(binder_dir, 'cli-simple', 'simple_input.ipynb'),\n",
        "    os.path.join(binder_dir, 'cli-simple', 'simple_output.ipynb'),\n",
        "    parameters={'msg': 'Hello'}\n",
        ")"
      ]
    }
  ],
  "metadata": {
    "colab": {
      "toc_visible": true
    },
    "kernelspec": {
      "display_name": "Python 3",
      "name": "python3"
    }
  },
  "nbformat": 4,
  "nbformat_minor": 0
}

