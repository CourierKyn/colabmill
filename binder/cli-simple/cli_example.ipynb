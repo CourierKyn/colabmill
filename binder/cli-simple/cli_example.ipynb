{
  "cells": [
    {
      "cell_type": "markdown",
      "metadata": {
        "id": "ec34110750b4"
      },
      "source": [
        "# Example - Executing a notebook from the Command Line"
      ]
    },
    {
      "cell_type": "markdown",
      "metadata": {
        "id": "0ddde191593d"
      },
      "source": [
        "## How to add a parameter tag\n",
        "\n",
        "If you wanted to add your own parameter tag, you would go to the menu: View ➡️ Cell Toolbar ➡️ Tags\n"
      ]
    },
    {
      "cell_type": "markdown",
      "metadata": {
        "id": "478d7db02e84"
      },
      "source": [
        "## Input notebook\n",
        "\n",
        "Let's take a look at the input notebook (`Forms.ipynb`). This notebook has cells containing\n",
        "tags for the parameters. \n",
        "\n",
        "[See input notebook](Forms.ipynb)"
      ]
    },
    {
      "cell_type": "markdown",
      "metadata": {
        "id": "2931cfc3553b"
      },
      "source": [
        "## Execute using the Command Line\n",
        "\n",
        "We are going to use the Jupyter magic `%%bash` to simulate executing the notebook from\n",
        "the command line from a bash terminal.\n",
        "\n",
        "The command takes the form:\n",
        "\n",
        "`colabmill <input notebook> <output notebook> -p <parameter name> <parameter value>`"
      ]
    },
    {
      "cell_type": "code",
      "execution_count": null,
      "metadata": {
        "id": "e3321d11e441"
      },
      "outputs": [],
      "source": [
        "binder_dir = '..'"
      ]
    },
    {
      "cell_type": "code",
      "execution_count": null,
      "metadata": {
        "id": "cf05f80b05cd"
      },
      "outputs": [],
      "source": [
        "!colabmill {binder_dir}/cli-simple/Forms.ipynb \\\n",
        "    {binder_dir}/cli-simple/Forms_output.ipynb \\\n",
        "    -p text 'Hello' \\\n",
        "    -p dropdown 'World' \\\n",
        "    -p text_and_dropdown 'Something'"
      ]
    },
    {
      "cell_type": "markdown",
      "metadata": {
        "id": "53cb916b89ec"
      },
      "source": [
        "## Output notebook"
      ]
    },
    {
      "cell_type": "markdown",
      "metadata": {
        "id": "98c983b252de"
      },
      "source": [
        "Let's take a look at the output notebook.\n",
        "\n",
        "[See output notebook](Forms_output.ipynb)"
      ]
    }
  ],
  "metadata": {
    "colab": {
      "name": "cli_example.ipynb",
      "toc_visible": true
    },
    "kernelspec": {
      "display_name": "Python 3",
      "name": "python3"
    }
  },
  "nbformat": 4,
  "nbformat_minor": 0
}

