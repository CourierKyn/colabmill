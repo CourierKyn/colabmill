{
  "cells": [
    {
      "cell_type": "markdown",
      "id": "c6482fcd",
      "metadata": {
        "id": "_7gRpQLXQSID"
      },
      "source": [
        "# Forms\n",
        "\n",
        "Forms provide an easy way to parameterize code. From a code cell, select **Insert → Add form field**.  When you change the value in a form, the corresponding value in the code will change. "
      ]
    },
    {
      "cell_type": "code",
      "execution_count": null,
      "id": "361acb98",
      "metadata": {
        "id": "3jKM6GfzlgpS"
      },
      "outputs": [],
      "source": [
        "#@title String fields\n",
        "\n",
        "text = 'value' #@param {type:\"string\"}\n",
        "dropdown = '1st option' #@param [\"1st option\", \"2nd option\", \"3rd option\"]\n",
        "text_and_dropdown = 'value' #@param [\"1st option\", \"2nd option\", \"3rd option\"] {allow-input: true}"
      ]
    },
    {
      "cell_type": "code",
      "execution_count": null,
      "id": "8e794071",
      "metadata": {
        "id": "761fa05a6715"
      },
      "outputs": [],
      "source": [
        "# @title Parameters injected\n",
        "\n",
        "text = \"Hello\"\n",
        "dropdown = \"World\"\n",
        "text_and_dropdown = \"Something\""
      ]
    },
    {
      "cell_type": "code",
      "execution_count": null,
      "id": "56c347fa",
      "metadata": {
        "id": "afaa59fc4876"
      },
      "outputs": [],
      "source": [
        "print(text)\n",
        "print(dropdown)\n",
        "print(text_and_dropdown)"
      ]
    },
    {
      "cell_type": "code",
      "execution_count": null,
      "id": "33c94b21",
      "metadata": {
        "id": "bf5LUmgZt-kT"
      },
      "outputs": [],
      "source": [
        "#@title Raw fields\n",
        "\n",
        "raw_input = None #@param {type:\"raw\"}\n",
        "raw_dropdown = raw_input #@param [1, \"raw_input\", \"False\", \"'string'\"] {type:\"raw\"}"
      ]
    },
    {
      "cell_type": "code",
      "execution_count": null,
      "id": "d5755496",
      "metadata": {
        "id": "d83fdfe66ca7"
      },
      "outputs": [],
      "source": [
        "print(raw_input)\n",
        "print(raw_dropdown)"
      ]
    },
    {
      "cell_type": "code",
      "execution_count": null,
      "id": "0094248b",
      "metadata": {
        "id": "aw5lgeRbubeF"
      },
      "outputs": [],
      "source": [
        "#@title Date fields\n",
        "date_input = '2018-03-22' #@param {type:\"date\"}"
      ]
    },
    {
      "cell_type": "code",
      "execution_count": null,
      "id": "19ddb8e9",
      "metadata": {
        "id": "dfc2adf9b56f"
      },
      "outputs": [],
      "source": [
        "print(date_input)"
      ]
    },
    {
      "cell_type": "code",
      "execution_count": null,
      "id": "d6151d1e",
      "metadata": {
        "id": "eFN7-fUKs-Bu"
      },
      "outputs": [],
      "source": [
        "#@title Number fields\n",
        "number_input = 10.0 #@param {type:\"number\"}\n",
        "number_slider = 0 #@param {type:\"slider\", min:-1, max:1, step:0.1}\n",
        "\n",
        "integer_input = 10 #@param {type:\"integer\"}\n",
        "integer_slider = 1 #@param {type:\"slider\", min:0, max:100, step:1}"
      ]
    },
    {
      "cell_type": "code",
      "execution_count": null,
      "id": "f0da6032",
      "metadata": {
        "id": "37890540d197"
      },
      "outputs": [],
      "source": [
        "print(number_input)\n",
        "print(number_slider)\n",
        "\n",
        "print(integer_input)\n",
        "print(integer_slider)"
      ]
    },
    {
      "cell_type": "code",
      "execution_count": null,
      "id": "beb5e077",
      "metadata": {
        "id": "ig8PIYeLtM8g"
      },
      "outputs": [],
      "source": [
        "#@title Boolean fields\n",
        "boolean_checkbox = True #@param {type:\"boolean\"}\n",
        "boolean_dropdown = True #@param [\"False\", \"True\"] {type:\"raw\"}"
      ]
    },
    {
      "cell_type": "code",
      "execution_count": null,
      "id": "da3e8e93",
      "metadata": {
        "id": "2a841fa14828"
      },
      "outputs": [],
      "source": [
        "print(boolean_checkbox)\n",
        "print(boolean_dropdown)"
      ]
    },
    {
      "cell_type": "code",
      "execution_count": null,
      "id": "e03349e6",
      "metadata": {
        "id": "ZCEBZPwUDGOg"
      },
      "outputs": [],
      "source": [
        "#@title ## Markdown\n",
        "#@markdown You can also include Markdown in forms.\n",
        "\n",
        "#@markdown ---\n",
        "#@markdown ### Enter a file path:\n",
        "file_path = \"\" #@param {type:\"string\"}\n",
        "#@markdown ---"
      ]
    },
    {
      "cell_type": "markdown",
      "id": "560bbe24",
      "metadata": {
        "id": "hVEG5D5TxFKW"
      },
      "source": [
        "# Hiding code\n",
        "\n",
        "You can change the view of the form by selecting **Edit → Show/hide code** or using the toolbar above the selected code cell. You can see both code and the form, just the form, or just the code."
      ]
    },
    {
      "cell_type": "code",
      "execution_count": null,
      "id": "7f4e6925",
      "metadata": {
        "id": "ad-fjFOQxoFG"
      },
      "outputs": [],
      "source": [
        "#@title Double click on this line in the code cell. { display-mode: \"form\" }\n",
        "\n",
        "option1 = 'A' #@param [\"A\", \"B\", \"C\"]"
      ]
    },
    {
      "cell_type": "code",
      "execution_count": null,
      "id": "8092d0cc",
      "metadata": {
        "id": "f0e9bdd73e44"
      },
      "outputs": [],
      "source": [
        "print('You selected', option1)"
      ]
    },
    {
      "cell_type": "code",
      "execution_count": null,
      "id": "7b8a67ae",
      "metadata": {
        "id": "h9aZYKhly2h_"
      },
      "outputs": [],
      "source": [
        "#@title After running this cell manually, it will auto-run if you change the selected value. { run: \"auto\" }\n",
        "\n",
        "option2 = \"A\" #@param [\"A\", \"B\", \"C\"]"
      ]
    },
    {
      "cell_type": "code",
      "execution_count": null,
      "id": "41191a5e",
      "metadata": {
        "id": "52c90a4d6739"
      },
      "outputs": [],
      "source": [
        "print('You selected', option2)"
      ]
    },
    {
      "cell_type": "markdown",
      "id": "de356072",
      "metadata": {
        "id": "62YnDE7i9dqP"
      },
      "source": [
        "# Using Jupyter Widgets for interactivity\n",
        "\n",
        "Colaboratory supports the core set of Jupyter Widgets for providing interactions between Python and the browser.\n",
        "\n",
        "See the official [Jupyter Widgets documentation](https://ipywidgets.readthedocs.io/en/latest/examples/Widget%20Basics.html)."
      ]
    },
    {
      "cell_type": "code",
      "execution_count": null,
      "id": "968af5b3",
      "metadata": {
        "id": "WPib9hvO8Pmb"
      },
      "outputs": [],
      "source": [
        "import ipywidgets as widgets\n",
        "from IPython.display import display\n",
        "button = widgets.Button(description=\"Click Me!\")\n",
        "output = widgets.Output()\n",
        "\n",
        "def on_button_clicked(b):\n",
        "  # Display the message within the output widget.\n",
        "  with output:\n",
        "    print(\"Button clicked.\")\n",
        "\n",
        "button.on_click(on_button_clicked)\n",
        "display(button, output)"
      ]
    },
    {
      "cell_type": "markdown",
      "id": "8cc9d27a",
      "metadata": {
        "id": "F9zl8NDWCKbS"
      },
      "source": [
        "### Using Jupyter Widgets sliders"
      ]
    },
    {
      "cell_type": "code",
      "execution_count": null,
      "id": "62baebe1",
      "metadata": {
        "id": "8JNPFRy9BBhS"
      },
      "outputs": [],
      "source": [
        "import ipywidgets as widgets\n",
        "slider = widgets.IntSlider(value=5, max=10)\n",
        "display(slider)"
      ]
    },
    {
      "cell_type": "code",
      "execution_count": null,
      "id": "73e42c80",
      "metadata": {
        "id": "KxoHySheBE0G"
      },
      "outputs": [],
      "source": [
        "# The current value of the slider\n",
        "slider.value"
      ]
    }
  ],
  "metadata": {
    "colab": {
      "collapsed_sections": [],
      "name": "Forms",
      "toc_visible": true
    },
    "kernelspec": {
      "display_name": "Python 3",
      "name": "python3"
    }
  },
  "nbformat": 4,
  "nbformat_minor": 0
}

